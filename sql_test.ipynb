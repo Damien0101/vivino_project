{
 "cells": [
  {
   "cell_type": "code",
   "execution_count": 1,
   "metadata": {},
   "outputs": [],
   "source": [
    "import sqlite3\n",
    "\n",
    "connexion = sqlite3.connect('data/vivino.db')\n",
    "curseur = connexion.cursor()"
   ]
  },
  {
   "cell_type": "code",
   "execution_count": 2,
   "metadata": {},
   "outputs": [
    {
     "name": "stdout",
     "output_type": "stream",
     "text": [
      "[('Cignomoro Primitivo di Manduria 2021', 18.75, 4.5, 32, 167945269), ('Puglia Pop Triglia Negroamaro Rosato 2022', 22.95, 4.7, 25, 171756244), ('Vigneti del Salento Vigne Vecchie Gold Series Leggenda Primitivo di Manduria 2019', 23.95, 4.5, 424, 160094800), ('Puglia Pop Luminaria Primitivo di Manduria 2021', 24.95, 4.5, 71, 169809721), ('Cignomoro 6 Anime Puglia Rosso 2021', 27.3, 4.5, 140, 169627036), ('Quinta do Paral Vinhas Velhas Tinto 2019', 29.95, 4.6, 181, 161721457), ('Cignomoro 80 Vecchie Vigne Primitivo di Manduria Old Vines 2020', 31.95, 4.5, 92, 166668866), ('Château Purcari Ice Wine de Purcari 2017', 33.17, 4.6, 87, 151598022), ('Château Purcari Negru de Purcari Limited Edition 2019', 33.17, 4.5, 48, 163633710), ('Tenuta Ulisse Limited Edition 10 Vendemmie', 34.2, 4.5, 9453, 164943169)]\n"
     ]
    }
   ],
   "source": [
    "querry1 = f\"\"\"\n",
    "        SELECT \n",
    "            name, price_euros, ratings_average,ratings_count, id\n",
    "        FROM\n",
    "            vintages\n",
    "        WHERE\n",
    "            ratings_average >= 4.5\n",
    "        ORDER BY\n",
    "            price_euros ASC, ratings_count DESC\n",
    "        LIMIT 10;\n",
    "        \"\"\"\n",
    "\n",
    "results = curseur.execute(querry1).fetchall()\n",
    "\n",
    "print(results)"
   ]
  },
  {
   "cell_type": "code",
   "execution_count": 3,
   "metadata": {},
   "outputs": [
    {
     "name": "stdout",
     "output_type": "stream",
     "text": [
      "                                                name  price  ratingAVG  \\\n",
      "0                        Tenuta Moraia Perpiero 2019  59.95        4.7   \n",
      "1          Puglia Pop Triglia Negroamaro Rosato 2022  22.95        4.7   \n",
      "2          ChÃ¢teau Purcari Ice Wine de Purcari 2017  33.17        4.6   \n",
      "3                           Gitana Lupi Rezerva 2017  36.55        4.6   \n",
      "4  Vaona Pegrandi Amarone della Valpolicella Clas...  56.25        4.6   \n",
      "5           Tenuta di Nozzole Toscana Il Pareto 2018  64.90        4.6   \n",
      "6           Quinta do Paral Vinhas Velhas Tinto 2019  29.95        4.6   \n",
      "7             Quinta do Vale MeÃ£o Vintage Port 2007  62.95        4.5   \n",
      "8                      Von Siebenthal MontelÃ¬g 2013  49.99        4.5   \n",
      "9        Miguel Torres Chile Conde de Superunda 2013  56.00        4.5   \n",
      "\n",
      "   ratingCOUNT  \n",
      "0           43  \n",
      "1           25  \n",
      "2           87  \n",
      "3         1155  \n",
      "4           54  \n",
      "5          124  \n",
      "6          181  \n",
      "7           56  \n",
      "8          249  \n",
      "9           68  \n"
     ]
    },
    {
     "data": {
      "application/vnd.plotly.v1+json": {
       "config": {
        "plotlyServerURL": "https://plot.ly"
       },
       "data": [
        {
         "name": "Price",
         "type": "bar",
         "x": [
          "Tenuta Moraia Perpiero 2019",
          "Puglia Pop Triglia Negroamaro Rosato 2022",
          "ChÃ¢teau Purcari Ice Wine de Purcari 2017",
          "Gitana Lupi Rezerva 2017",
          "Vaona Pegrandi Amarone della Valpolicella Classico 2017",
          "Tenuta di Nozzole Toscana Il Pareto 2018",
          "Quinta do Paral Vinhas Velhas Tinto 2019",
          "Quinta do Vale MeÃ£o Vintage Port 2007",
          "Von Siebenthal MontelÃ¬g 2013",
          "Miguel Torres Chile Conde de Superunda 2013"
         ],
         "y": [
          59.95,
          22.95,
          33.17,
          36.55,
          56.25,
          64.9,
          29.95,
          62.95,
          49.99,
          56
         ]
        },
        {
         "name": "Rating AVG",
         "type": "bar",
         "x": [
          "Tenuta Moraia Perpiero 2019",
          "Puglia Pop Triglia Negroamaro Rosato 2022",
          "ChÃ¢teau Purcari Ice Wine de Purcari 2017",
          "Gitana Lupi Rezerva 2017",
          "Vaona Pegrandi Amarone della Valpolicella Classico 2017",
          "Tenuta di Nozzole Toscana Il Pareto 2018",
          "Quinta do Paral Vinhas Velhas Tinto 2019",
          "Quinta do Vale MeÃ£o Vintage Port 2007",
          "Von Siebenthal MontelÃ¬g 2013",
          "Miguel Torres Chile Conde de Superunda 2013"
         ],
         "y": [
          4.7,
          4.7,
          4.6,
          4.6,
          4.6,
          4.6,
          4.6,
          4.5,
          4.5,
          4.5
         ]
        },
        {
         "name": "Rating COUNT",
         "type": "bar",
         "x": [
          "Tenuta Moraia Perpiero 2019",
          "Puglia Pop Triglia Negroamaro Rosato 2022",
          "ChÃ¢teau Purcari Ice Wine de Purcari 2017",
          "Gitana Lupi Rezerva 2017",
          "Vaona Pegrandi Amarone della Valpolicella Classico 2017",
          "Tenuta di Nozzole Toscana Il Pareto 2018",
          "Quinta do Paral Vinhas Velhas Tinto 2019",
          "Quinta do Vale MeÃ£o Vintage Port 2007",
          "Von Siebenthal MontelÃ¬g 2013",
          "Miguel Torres Chile Conde de Superunda 2013"
         ],
         "y": [
          43,
          25,
          87,
          1155,
          54,
          124,
          181,
          56,
          249,
          68
         ]
        }
       ],
       "layout": {
        "template": {
         "data": {
          "bar": [
           {
            "error_x": {
             "color": "#2a3f5f"
            },
            "error_y": {
             "color": "#2a3f5f"
            },
            "marker": {
             "line": {
              "color": "#E5ECF6",
              "width": 0.5
             },
             "pattern": {
              "fillmode": "overlay",
              "size": 10,
              "solidity": 0.2
             }
            },
            "type": "bar"
           }
          ],
          "barpolar": [
           {
            "marker": {
             "line": {
              "color": "#E5ECF6",
              "width": 0.5
             },
             "pattern": {
              "fillmode": "overlay",
              "size": 10,
              "solidity": 0.2
             }
            },
            "type": "barpolar"
           }
          ],
          "carpet": [
           {
            "aaxis": {
             "endlinecolor": "#2a3f5f",
             "gridcolor": "white",
             "linecolor": "white",
             "minorgridcolor": "white",
             "startlinecolor": "#2a3f5f"
            },
            "baxis": {
             "endlinecolor": "#2a3f5f",
             "gridcolor": "white",
             "linecolor": "white",
             "minorgridcolor": "white",
             "startlinecolor": "#2a3f5f"
            },
            "type": "carpet"
           }
          ],
          "choropleth": [
           {
            "colorbar": {
             "outlinewidth": 0,
             "ticks": ""
            },
            "type": "choropleth"
           }
          ],
          "contour": [
           {
            "colorbar": {
             "outlinewidth": 0,
             "ticks": ""
            },
            "colorscale": [
             [
              0,
              "#0d0887"
             ],
             [
              0.1111111111111111,
              "#46039f"
             ],
             [
              0.2222222222222222,
              "#7201a8"
             ],
             [
              0.3333333333333333,
              "#9c179e"
             ],
             [
              0.4444444444444444,
              "#bd3786"
             ],
             [
              0.5555555555555556,
              "#d8576b"
             ],
             [
              0.6666666666666666,
              "#ed7953"
             ],
             [
              0.7777777777777778,
              "#fb9f3a"
             ],
             [
              0.8888888888888888,
              "#fdca26"
             ],
             [
              1,
              "#f0f921"
             ]
            ],
            "type": "contour"
           }
          ],
          "contourcarpet": [
           {
            "colorbar": {
             "outlinewidth": 0,
             "ticks": ""
            },
            "type": "contourcarpet"
           }
          ],
          "heatmap": [
           {
            "colorbar": {
             "outlinewidth": 0,
             "ticks": ""
            },
            "colorscale": [
             [
              0,
              "#0d0887"
             ],
             [
              0.1111111111111111,
              "#46039f"
             ],
             [
              0.2222222222222222,
              "#7201a8"
             ],
             [
              0.3333333333333333,
              "#9c179e"
             ],
             [
              0.4444444444444444,
              "#bd3786"
             ],
             [
              0.5555555555555556,
              "#d8576b"
             ],
             [
              0.6666666666666666,
              "#ed7953"
             ],
             [
              0.7777777777777778,
              "#fb9f3a"
             ],
             [
              0.8888888888888888,
              "#fdca26"
             ],
             [
              1,
              "#f0f921"
             ]
            ],
            "type": "heatmap"
           }
          ],
          "heatmapgl": [
           {
            "colorbar": {
             "outlinewidth": 0,
             "ticks": ""
            },
            "colorscale": [
             [
              0,
              "#0d0887"
             ],
             [
              0.1111111111111111,
              "#46039f"
             ],
             [
              0.2222222222222222,
              "#7201a8"
             ],
             [
              0.3333333333333333,
              "#9c179e"
             ],
             [
              0.4444444444444444,
              "#bd3786"
             ],
             [
              0.5555555555555556,
              "#d8576b"
             ],
             [
              0.6666666666666666,
              "#ed7953"
             ],
             [
              0.7777777777777778,
              "#fb9f3a"
             ],
             [
              0.8888888888888888,
              "#fdca26"
             ],
             [
              1,
              "#f0f921"
             ]
            ],
            "type": "heatmapgl"
           }
          ],
          "histogram": [
           {
            "marker": {
             "pattern": {
              "fillmode": "overlay",
              "size": 10,
              "solidity": 0.2
             }
            },
            "type": "histogram"
           }
          ],
          "histogram2d": [
           {
            "colorbar": {
             "outlinewidth": 0,
             "ticks": ""
            },
            "colorscale": [
             [
              0,
              "#0d0887"
             ],
             [
              0.1111111111111111,
              "#46039f"
             ],
             [
              0.2222222222222222,
              "#7201a8"
             ],
             [
              0.3333333333333333,
              "#9c179e"
             ],
             [
              0.4444444444444444,
              "#bd3786"
             ],
             [
              0.5555555555555556,
              "#d8576b"
             ],
             [
              0.6666666666666666,
              "#ed7953"
             ],
             [
              0.7777777777777778,
              "#fb9f3a"
             ],
             [
              0.8888888888888888,
              "#fdca26"
             ],
             [
              1,
              "#f0f921"
             ]
            ],
            "type": "histogram2d"
           }
          ],
          "histogram2dcontour": [
           {
            "colorbar": {
             "outlinewidth": 0,
             "ticks": ""
            },
            "colorscale": [
             [
              0,
              "#0d0887"
             ],
             [
              0.1111111111111111,
              "#46039f"
             ],
             [
              0.2222222222222222,
              "#7201a8"
             ],
             [
              0.3333333333333333,
              "#9c179e"
             ],
             [
              0.4444444444444444,
              "#bd3786"
             ],
             [
              0.5555555555555556,
              "#d8576b"
             ],
             [
              0.6666666666666666,
              "#ed7953"
             ],
             [
              0.7777777777777778,
              "#fb9f3a"
             ],
             [
              0.8888888888888888,
              "#fdca26"
             ],
             [
              1,
              "#f0f921"
             ]
            ],
            "type": "histogram2dcontour"
           }
          ],
          "mesh3d": [
           {
            "colorbar": {
             "outlinewidth": 0,
             "ticks": ""
            },
            "type": "mesh3d"
           }
          ],
          "parcoords": [
           {
            "line": {
             "colorbar": {
              "outlinewidth": 0,
              "ticks": ""
             }
            },
            "type": "parcoords"
           }
          ],
          "pie": [
           {
            "automargin": true,
            "type": "pie"
           }
          ],
          "scatter": [
           {
            "fillpattern": {
             "fillmode": "overlay",
             "size": 10,
             "solidity": 0.2
            },
            "type": "scatter"
           }
          ],
          "scatter3d": [
           {
            "line": {
             "colorbar": {
              "outlinewidth": 0,
              "ticks": ""
             }
            },
            "marker": {
             "colorbar": {
              "outlinewidth": 0,
              "ticks": ""
             }
            },
            "type": "scatter3d"
           }
          ],
          "scattercarpet": [
           {
            "marker": {
             "colorbar": {
              "outlinewidth": 0,
              "ticks": ""
             }
            },
            "type": "scattercarpet"
           }
          ],
          "scattergeo": [
           {
            "marker": {
             "colorbar": {
              "outlinewidth": 0,
              "ticks": ""
             }
            },
            "type": "scattergeo"
           }
          ],
          "scattergl": [
           {
            "marker": {
             "colorbar": {
              "outlinewidth": 0,
              "ticks": ""
             }
            },
            "type": "scattergl"
           }
          ],
          "scattermapbox": [
           {
            "marker": {
             "colorbar": {
              "outlinewidth": 0,
              "ticks": ""
             }
            },
            "type": "scattermapbox"
           }
          ],
          "scatterpolar": [
           {
            "marker": {
             "colorbar": {
              "outlinewidth": 0,
              "ticks": ""
             }
            },
            "type": "scatterpolar"
           }
          ],
          "scatterpolargl": [
           {
            "marker": {
             "colorbar": {
              "outlinewidth": 0,
              "ticks": ""
             }
            },
            "type": "scatterpolargl"
           }
          ],
          "scatterternary": [
           {
            "marker": {
             "colorbar": {
              "outlinewidth": 0,
              "ticks": ""
             }
            },
            "type": "scatterternary"
           }
          ],
          "surface": [
           {
            "colorbar": {
             "outlinewidth": 0,
             "ticks": ""
            },
            "colorscale": [
             [
              0,
              "#0d0887"
             ],
             [
              0.1111111111111111,
              "#46039f"
             ],
             [
              0.2222222222222222,
              "#7201a8"
             ],
             [
              0.3333333333333333,
              "#9c179e"
             ],
             [
              0.4444444444444444,
              "#bd3786"
             ],
             [
              0.5555555555555556,
              "#d8576b"
             ],
             [
              0.6666666666666666,
              "#ed7953"
             ],
             [
              0.7777777777777778,
              "#fb9f3a"
             ],
             [
              0.8888888888888888,
              "#fdca26"
             ],
             [
              1,
              "#f0f921"
             ]
            ],
            "type": "surface"
           }
          ],
          "table": [
           {
            "cells": {
             "fill": {
              "color": "#EBF0F8"
             },
             "line": {
              "color": "white"
             }
            },
            "header": {
             "fill": {
              "color": "#C8D4E3"
             },
             "line": {
              "color": "white"
             }
            },
            "type": "table"
           }
          ]
         },
         "layout": {
          "annotationdefaults": {
           "arrowcolor": "#2a3f5f",
           "arrowhead": 0,
           "arrowwidth": 1
          },
          "autotypenumbers": "strict",
          "coloraxis": {
           "colorbar": {
            "outlinewidth": 0,
            "ticks": ""
           }
          },
          "colorscale": {
           "diverging": [
            [
             0,
             "#8e0152"
            ],
            [
             0.1,
             "#c51b7d"
            ],
            [
             0.2,
             "#de77ae"
            ],
            [
             0.3,
             "#f1b6da"
            ],
            [
             0.4,
             "#fde0ef"
            ],
            [
             0.5,
             "#f7f7f7"
            ],
            [
             0.6,
             "#e6f5d0"
            ],
            [
             0.7,
             "#b8e186"
            ],
            [
             0.8,
             "#7fbc41"
            ],
            [
             0.9,
             "#4d9221"
            ],
            [
             1,
             "#276419"
            ]
           ],
           "sequential": [
            [
             0,
             "#0d0887"
            ],
            [
             0.1111111111111111,
             "#46039f"
            ],
            [
             0.2222222222222222,
             "#7201a8"
            ],
            [
             0.3333333333333333,
             "#9c179e"
            ],
            [
             0.4444444444444444,
             "#bd3786"
            ],
            [
             0.5555555555555556,
             "#d8576b"
            ],
            [
             0.6666666666666666,
             "#ed7953"
            ],
            [
             0.7777777777777778,
             "#fb9f3a"
            ],
            [
             0.8888888888888888,
             "#fdca26"
            ],
            [
             1,
             "#f0f921"
            ]
           ],
           "sequentialminus": [
            [
             0,
             "#0d0887"
            ],
            [
             0.1111111111111111,
             "#46039f"
            ],
            [
             0.2222222222222222,
             "#7201a8"
            ],
            [
             0.3333333333333333,
             "#9c179e"
            ],
            [
             0.4444444444444444,
             "#bd3786"
            ],
            [
             0.5555555555555556,
             "#d8576b"
            ],
            [
             0.6666666666666666,
             "#ed7953"
            ],
            [
             0.7777777777777778,
             "#fb9f3a"
            ],
            [
             0.8888888888888888,
             "#fdca26"
            ],
            [
             1,
             "#f0f921"
            ]
           ]
          },
          "colorway": [
           "#636efa",
           "#EF553B",
           "#00cc96",
           "#ab63fa",
           "#FFA15A",
           "#19d3f3",
           "#FF6692",
           "#B6E880",
           "#FF97FF",
           "#FECB52"
          ],
          "font": {
           "color": "#2a3f5f"
          },
          "geo": {
           "bgcolor": "white",
           "lakecolor": "white",
           "landcolor": "#E5ECF6",
           "showlakes": true,
           "showland": true,
           "subunitcolor": "white"
          },
          "hoverlabel": {
           "align": "left"
          },
          "hovermode": "closest",
          "mapbox": {
           "style": "light"
          },
          "paper_bgcolor": "white",
          "plot_bgcolor": "#E5ECF6",
          "polar": {
           "angularaxis": {
            "gridcolor": "white",
            "linecolor": "white",
            "ticks": ""
           },
           "bgcolor": "#E5ECF6",
           "radialaxis": {
            "gridcolor": "white",
            "linecolor": "white",
            "ticks": ""
           }
          },
          "scene": {
           "xaxis": {
            "backgroundcolor": "#E5ECF6",
            "gridcolor": "white",
            "gridwidth": 2,
            "linecolor": "white",
            "showbackground": true,
            "ticks": "",
            "zerolinecolor": "white"
           },
           "yaxis": {
            "backgroundcolor": "#E5ECF6",
            "gridcolor": "white",
            "gridwidth": 2,
            "linecolor": "white",
            "showbackground": true,
            "ticks": "",
            "zerolinecolor": "white"
           },
           "zaxis": {
            "backgroundcolor": "#E5ECF6",
            "gridcolor": "white",
            "gridwidth": 2,
            "linecolor": "white",
            "showbackground": true,
            "ticks": "",
            "zerolinecolor": "white"
           }
          },
          "shapedefaults": {
           "line": {
            "color": "#2a3f5f"
           }
          },
          "ternary": {
           "aaxis": {
            "gridcolor": "white",
            "linecolor": "white",
            "ticks": ""
           },
           "baxis": {
            "gridcolor": "white",
            "linecolor": "white",
            "ticks": ""
           },
           "bgcolor": "#E5ECF6",
           "caxis": {
            "gridcolor": "white",
            "linecolor": "white",
            "ticks": ""
           }
          },
          "title": {
           "x": 0.05
          },
          "xaxis": {
           "automargin": true,
           "gridcolor": "white",
           "linecolor": "white",
           "ticks": "",
           "title": {
            "standoff": 15
           },
           "zerolinecolor": "white",
           "zerolinewidth": 2
          },
          "yaxis": {
           "automargin": true,
           "gridcolor": "white",
           "linecolor": "white",
           "ticks": "",
           "title": {
            "standoff": 15
           },
           "zerolinecolor": "white",
           "zerolinewidth": 2
          }
         }
        }
       }
      }
     },
     "metadata": {},
     "output_type": "display_data"
    }
   ],
   "source": [
    "import plotly.express as px \n",
    "import plotly.graph_objects as go\n",
    "import pandas as pd\n",
    "\n",
    "# Load the dataframe from the csv file with specified encoding\n",
    "df = pd.read_csv('data/first.csv', encoding='latin1')\n",
    "print(df)\n",
    "\n",
    "#create a bar plot with the data\n",
    "fig = go.Figure(data=[\n",
    "    go.Bar(name='Price', x=df['name'], y=df['price']),\n",
    "    go.Bar(name='Rating AVG', x=df['name'], y=df['ratingAVG']),\n",
    "    go.Bar(name='Rating COUNT', x=df['name'], y=df['ratingCOUNT'])\n",
    "])\n",
    "fig.show()\n"
   ]
  },
  {
   "cell_type": "code",
   "execution_count": 48,
   "metadata": {},
   "outputs": [
    {
     "name": "stdout",
     "output_type": "stream",
     "text": [
      "           country    price  rating  wine count  median_price  median_rating\n",
      "7           France  534.000    4.50    422503.0    141.259118       4.438235\n",
      "11          Italie  296.250    4.50    274658.0    141.259118       4.438235\n",
      "16      États-Unis  201.250    4.50    204060.0    141.259118       4.438235\n",
      "1        Allemagne  167.625    4.40    164533.0    141.259118       4.438235\n",
      "6          Espagne  109.950    4.50    102662.0    141.259118       4.438235\n",
      "3        Australie  235.000    4.40     90954.0    141.259118       4.438235\n",
      "4            Chili  124.680    4.50     41191.0    141.259118       4.438235\n",
      "13        Portugal  101.000    4.40     39847.0    141.259118       4.438235\n",
      "2        Argentine   94.350    4.40     36121.0    141.259118       4.438235\n",
      "15          Suisse  123.425    4.35     33656.0    141.259118       4.438235\n",
      "0   Afrique du Sud   65.540    4.40     30857.0    141.259118       4.438235\n",
      "9          Hongrie   79.255    4.50     16605.0    141.259118       4.438235\n",
      "8            Grèce  124.000    4.40      9581.0    141.259118       4.438235\n",
      "14        Roumanie   36.080    4.40      6841.0    141.259118       4.438235\n",
      "5          Croatie   35.400    4.30      5880.0    141.259118       4.438235\n",
      "10          Israël   37.050    4.50      5435.0    141.259118       4.438235\n",
      "12        Moldavie   36.550    4.50      5055.0    141.259118       4.438235\n"
     ]
    }
   ],
   "source": [
    "df1 = pd.read_csv('data/best_countries.csv')\n",
    "\n",
    "countries = df1.groupby('country',as_index=False)[['price','rating','wine count']].median()\n",
    "countries.sort_values('rating',ascending=False,inplace=True)\n",
    "countries[\"median_price\"] = countries['price'].mean()\n",
    "countries[\"median_rating\"] = countries['rating'].mean()\n",
    "print(countries.sort_values('wine count',ascending=False))\n",
    "\n"
   ]
  }
 ],
 "metadata": {
  "kernelspec": {
   "display_name": "Python 3",
   "language": "python",
   "name": "python3"
  },
  "language_info": {
   "codemirror_mode": {
    "name": "ipython",
    "version": 3
   },
   "file_extension": ".py",
   "mimetype": "text/x-python",
   "name": "python",
   "nbconvert_exporter": "python",
   "pygments_lexer": "ipython3",
   "version": "3.12.3"
  }
 },
 "nbformat": 4,
 "nbformat_minor": 2
}
