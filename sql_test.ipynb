{
 "cells": [
  {
   "cell_type": "code",
   "execution_count": 1,
   "metadata": {},
   "outputs": [],
   "source": [
    "import sqlite3\n",
    "\n",
    "connexion = sqlite3.connect('data/vivino.db')\n",
    "curseur = connexion.cursor()"
   ]
  },
  {
   "cell_type": "code",
   "execution_count": 13,
   "metadata": {},
   "outputs": [
    {
     "name": "stdout",
     "output_type": "stream",
     "text": [
      "[('Cignomoro Primitivo di Manduria 2021', 18.75, 4.5, 32, 167945269), ('Puglia Pop Triglia Negroamaro Rosato 2022', 22.95, 4.7, 25, 171756244), ('Vigneti del Salento Vigne Vecchie Gold Series Leggenda Primitivo di Manduria 2019', 23.95, 4.5, 424, 160094800), ('Puglia Pop Luminaria Primitivo di Manduria 2021', 24.95, 4.5, 71, 169809721), ('Cignomoro 6 Anime Puglia Rosso 2021', 27.3, 4.5, 140, 169627036), ('Quinta do Paral Vinhas Velhas Tinto 2019', 29.95, 4.6, 181, 161721457), ('Cignomoro 80 Vecchie Vigne Primitivo di Manduria Old Vines 2020', 31.95, 4.5, 92, 166668866), ('Château Purcari Ice Wine de Purcari 2017', 33.17, 4.6, 87, 151598022), ('Château Purcari Negru de Purcari Limited Edition 2019', 33.17, 4.5, 48, 163633710), ('Tenuta Ulisse Limited Edition 10 Vendemmie', 34.2, 4.5, 9453, 164943169)]\n"
     ]
    }
   ],
   "source": [
    "querry1 = f\"\"\"\n",
    "        SELECT \n",
    "            name, price_euros, ratings_average,ratings_count, id\n",
    "        FROM\n",
    "            vintages\n",
    "        WHERE\n",
    "            ratings_average >= 4.5\n",
    "        ORDER BY\n",
    "            price_euros ASC, ratings_count DESC\n",
    "        LIMIT 10;\n",
    "        \"\"\"\n",
    "\n",
    "results = curseur.execute(querry1).fetchall()\n",
    "\n",
    "print(results)"
   ]
  },
  {
   "cell_type": "code",
   "execution_count": null,
   "metadata": {},
   "outputs": [],
   "source": []
  }
 ],
 "metadata": {
  "kernelspec": {
   "display_name": "Python 3",
   "language": "python",
   "name": "python3"
  },
  "language_info": {
   "codemirror_mode": {
    "name": "ipython",
    "version": 3
   },
   "file_extension": ".py",
   "mimetype": "text/x-python",
   "name": "python",
   "nbconvert_exporter": "python",
   "pygments_lexer": "ipython3",
   "version": "3.12.3"
  }
 },
 "nbformat": 4,
 "nbformat_minor": 2
}
